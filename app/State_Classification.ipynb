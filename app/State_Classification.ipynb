{
 "cells": [
  {
   "cell_type": "markdown",
   "metadata": {},
   "source": [
    "\n",
    "## Nomenclature:\n",
    "\n",
    "$S_1$ - state_dying  - the dying state \n",
    "\n",
    "$S_0$ - state_normal - the normal state \n",
    "\n",
    "dv - voltage drop - changes between the minimum Voltage between different days \n",
    "\n",
    "S - state r.v, takes discrete values from $\\{S_0, S_1\\}$\n",
    "\n",
    "dV - voltage drop r.v take continuous values \n",
    "\n",
    "Goal - find:\n",
    "\n",
    "$P(S = S_1|dV = dv)$\n",
    "\n",
    "The idea is to provide a pseduo label for the dying state and their probability of being in that state \n",
    "\n",
    "$P(S=S_1|dV) = P(dV|S=S_1) * \\frac{P(S=S1)}{P(dV)} = \\frac{P(dV|S=S_1)P(S=S_1)}{P(dV|S=S1)P(S=S_1) + P(dV|S=S_0)P(S=S_0)}$\n",
    "\n",
    "\n"
   ]
  },
  {
   "cell_type": "markdown",
   "metadata": {},
   "source": [
    "## Extending to multi-day recordings:\n",
    "\n",
    "The goal is not to find $P(S_1|dV_0, dV_1,\\dots,dV_i)$ where $dV_i$ is the voltage drop recorded at the $i^{th}$ day from the current day.\n",
    "\n",
    "Again, using Bayes Rule:\n",
    "\n",
    "$$P(S_1|dV_0, dV_1,\\dots,dV_i) = \\frac{P(dV_0,dV_1,\\dots,dV_i|S_1)P(S_1)}{P(dV_0,dV_1,\\dots,dV_i|S_1)P(S_1) + P(dV_0,dV_1,\\dots,dV_i|S_0)P(S_0)}$$\n",
    "\n",
    "There are now two avenues for exploration: \n",
    "\n",
    "- Measure $P(dV_0,\\dots,dV_i|S_1)$ empirically\n",
    "\n",
    "- Assume conditional independence: $P(dV_0,\\dots,dV_i|S_1) = \\prod_{0}^i P(dV_i|S_1)$ where $P(dV_i|S_1)$ is already available"
   ]
  },
  {
   "cell_type": "markdown",
   "metadata": {},
   "source": [
    "### Calculating weather-normalised voltage drop\n",
    "\n",
    "- Gather the normal days from a period of 30 days prior - 30 can be a hyper-parameter \n",
    "- Check cloudcover and radiation data: if good (defined later), then classify as normal day\n",
    "- Get minimum Voltage (exclude zero) and voltage drop by comparing minimum voltage against the mean of the minimum voltage of the good days. "
   ]
  },
  {
   "cell_type": "markdown",
   "metadata": {},
   "source": []
  }
 ],
 "metadata": {
  "kernelspec": {
   "display_name": "Python 3.10.8 64-bit",
   "language": "python",
   "name": "python3"
  },
  "language_info": {
   "codemirror_mode": {
    "name": "ipython",
    "version": 3
   },
   "file_extension": ".py",
   "mimetype": "text/x-python",
   "name": "python",
   "nbconvert_exporter": "python",
   "pygments_lexer": "ipython3",
   "version": "3.10.8"
  },
  "orig_nbformat": 4,
  "vscode": {
   "interpreter": {
    "hash": "af6e1a68a1ff66f16d4f08322d4e1f710597c8381c98fe8bc0e75d3ac14f473e"
   }
  }
 },
 "nbformat": 4,
 "nbformat_minor": 2
}
