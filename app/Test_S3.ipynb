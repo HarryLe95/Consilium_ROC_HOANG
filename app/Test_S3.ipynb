{
 "cells": [
  {
   "cell_type": "code",
   "execution_count": 136,
   "metadata": {},
   "outputs": [],
   "source": [
    "import boto3\n",
    "import roc._manual_labels_config\n",
    "import roc.state\n",
    "from pathlib import Path \n",
    "config = roc._manual_labels_config.init()\n",
    "state  = roc.state.init()"
   ]
  },
  {
   "cell_type": "code",
   "execution_count": 137,
   "metadata": {},
   "outputs": [],
   "source": [
    "client = boto3.client('s3')\n",
    "s3=boto3.resource('s3')\n",
    "bucket_name = config['nn_info']['bucket']\n",
    "bucket = s3.Bucket(bucket_name)"
   ]
  },
  {
   "cell_type": "code",
   "execution_count": 185,
   "metadata": {},
   "outputs": [],
   "source": [
    "content = client.list_objects_v2(Bucket=bucket_name, Prefix = 'ROC/', Delimiter ='/')\n",
    "\n",
    "try:\n",
    "    prefix = [Path(item['Prefix']) for item in content['CommonPrefixes']]\n",
    "except Exception as e:\n",
    "    print(e)"
   ]
  },
  {
   "cell_type": "code",
   "execution_count": 187,
   "metadata": {},
   "outputs": [
    {
     "data": {
      "text/plain": [
       "[WindowsPath('ROC/LABEL_DATA'),\n",
       " WindowsPath('ROC/PROCESSED_DATA'),\n",
       " WindowsPath('ROC/SOLAR_DATA'),\n",
       " WindowsPath('ROC/TAG_DATA')]"
      ]
     },
     "execution_count": 187,
     "metadata": {},
     "output_type": "execute_result"
    }
   ],
   "source": [
    "prefix"
   ]
  },
  {
   "cell_type": "code",
   "execution_count": 204,
   "metadata": {},
   "outputs": [],
   "source": [
    "def _listdir(bucket:str, prefix:str=''):\n",
    "    prefix_path = prefix +'/' if prefix != '' else prefix\n",
    "    file_structure = client.list_objects_v2(Bucket=bucket, Prefix=prefix_path, Delimiter='/')\n",
    "    try:\n",
    "        sub_folder = {Path(item['Prefix']).as_posix(): Path(item['Prefix']).relative_to(prefix).as_posix() for item in file_structure['CommonPrefixes']}\n",
    "        return sub_folder \n",
    "    except KeyError as e:\n",
    "        return None "
   ]
  },
  {
   "cell_type": "code",
   "execution_count": 206,
   "metadata": {},
   "outputs": [],
   "source": [
    "_listdir(bucket_name, 'ROC/LABEL_DATA')"
   ]
  },
  {
   "cell_type": "code",
   "execution_count": 207,
   "metadata": {},
   "outputs": [],
   "source": [
    "x={}"
   ]
  },
  {
   "cell_type": "code",
   "execution_count": 210,
   "metadata": {},
   "outputs": [
    {
     "data": {
      "text/plain": [
       "0"
      ]
     },
     "execution_count": 210,
     "metadata": {},
     "output_type": "execute_result"
    }
   ],
   "source": [
    "len(list(x.keys()))"
   ]
  },
  {
   "cell_type": "code",
   "execution_count": 231,
   "metadata": {},
   "outputs": [],
   "source": [
    "from aau.advancedanalytics_util import S3\n",
    "from pathlib import Path \n",
    "\n",
    "class S3Manager(S3):\n",
    "    def _listdir(self, bucket:str, prefix:str=''):\n",
    "        prefix_path = prefix +'/' if prefix != '' else prefix\n",
    "        file_structure = self.client.list_objects_v2(Bucket=bucket, Prefix=prefix_path, Delimiter='/')\n",
    "        try:\n",
    "            sub_folder_prefix = [Path(item['Prefix']).as_posix() for item in file_structure['CommonPrefixes']]\n",
    "            sub_folder_rel_path = {prefix: [Path(item['Prefix']).relative_to(prefix).as_posix() for item in file_structure['CommonPrefix']]}\n",
    "            return sub_folder_rel_path, sub_folder_prefix\n",
    "        except KeyError as e:\n",
    "            return {}, []\n",
    "\n",
    "    def listdir(self, bucket:str):\n",
    "        ls = self._listdir(bucket)\n",
    "        next = list(ls.keys())\n",
    "        status=True \n",
    "\n",
    "        while status:\n",
    "            if len(next)==0:\n",
    "                break\n",
    "            prefix = next.pop()\n",
    "            current_ls = self._listdir(bucket, prefix)\n",
    "            next.extend(list(current_ls.keys()))\n",
    "            ls.update(current_ls)\n",
    "        return ls "
   ]
  },
  {
   "cell_type": "code",
   "execution_count": 232,
   "metadata": {},
   "outputs": [],
   "source": [
    "s3 = S3Manager(config['procdata_info'])"
   ]
  },
  {
   "cell_type": "code",
   "execution_count": 233,
   "metadata": {},
   "outputs": [
    {
     "data": {
      "text/plain": [
       "{'': ['ROC'],\n",
       " 'ROC/LABEL_DATA': 'LABEL_DATA',\n",
       " 'ROC/PROCESSED_DATA': 'PROCESSED_DATA',\n",
       " 'ROC/SOLAR_DATA': 'SOLAR_DATA',\n",
       " 'ROC/TAG_DATA': 'TAG_DATA'}"
      ]
     },
     "execution_count": 233,
     "metadata": {},
     "output_type": "execute_result"
    }
   ],
   "source": [
    "s3.listdir(bucket_name)"
   ]
  },
  {
   "cell_type": "code",
   "execution_count": null,
   "metadata": {},
   "outputs": [],
   "source": []
  }
 ],
 "metadata": {
  "kernelspec": {
   "display_name": "Python 3.10.5 ('venv': venv)",
   "language": "python",
   "name": "python3"
  },
  "language_info": {
   "codemirror_mode": {
    "name": "ipython",
    "version": 3
   },
   "file_extension": ".py",
   "mimetype": "text/x-python",
   "name": "python",
   "nbconvert_exporter": "python",
   "pygments_lexer": "ipython3",
   "version": "3.10.5"
  },
  "orig_nbformat": 4,
  "vscode": {
   "interpreter": {
    "hash": "420d5b2b32d695581180f46d14c510b1ecc4facd3691240757c7a2a11a131081"
   }
  }
 },
 "nbformat": 4,
 "nbformat_minor": 2
}
