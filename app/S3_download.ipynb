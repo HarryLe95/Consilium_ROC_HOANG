{
 "cells": [
  {
   "cell_type": "code",
   "execution_count": 1,
   "metadata": {},
   "outputs": [],
   "source": [
    "import boto3\n",
    "import src.roc._manual_labels_config as roc_manual_labels_config\n",
    "import src.roc.state as roc_state\n",
    "import numpy as np \n",
    "from src.aau.S3Manager import S3Manager\n",
    "from src.ROC_Classifier.DataPipe import S3ROCManager\n",
    "from src.utils.PathManager import Paths as Path\n",
    "import pandas as pd \n",
    "import yaml \n",
    "config = roc_manual_labels_config.init()"
   ]
  },
  {
   "cell_type": "code",
   "execution_count": 2,
   "metadata": {},
   "outputs": [
    {
     "name": "stdout",
     "output_type": "stream",
     "text": [
      "['ACRUS1', 'BIGL20', 'BIGL22', 'MOOM115', 'MOOM157', 'POND1', 'POND11', 'POND14', 'POND16', 'PSYC3', 'PSYC7', 'TIRRA80', 'TIRRA88', 'TIRRA91', 'TIRRA93', 'TIRRW1', 'TOOL16', 'TOOL29', 'WELTN1', 'WELTN4', 'WIPPOS1', 'WKT3', 'YAN1L', 'YAN2L', 'YAN2U', 'YAN4U', 'YAN8L']\n"
     ]
    }
   ],
   "source": [
    "S3 = S3ROCManager(config['procdata_info'])\n",
    "print(S3.all_labelled_wells)"
   ]
  },
  {
   "cell_type": "code",
   "execution_count": null,
   "metadata": {},
   "outputs": [],
   "source": [
    "#Download all raw data\n",
    "for well_code in S3.all_labelled_wells:\n",
    "    S3.read_processed_data(well_code = well_code, start=\"2016-01-01\", end=\"2023-01-01\", nan_replace_method='zero',to_csv=True)"
   ]
  },
  {
   "cell_type": "code",
   "execution_count": null,
   "metadata": {},
   "outputs": [],
   "source": [
    "#Download all weather data\n",
    "for station in S3.all_stations:\n",
    "    station_df = S3.read_solar(station,'2016-01-01','2023-01-01',to_csv=True)"
   ]
  },
  {
   "cell_type": "code",
   "execution_count": null,
   "metadata": {},
   "outputs": [],
   "source": [
    "\n",
    "#Download all labels\n",
    "start=\"2016-01-01\"\n",
    "end=\"2023-01-01\"\n",
    "for well_code in S3.all_labelled_wells:\n",
    "    S3.read_labelled_data(well_code = well_code, \n",
    "                          start=start,\n",
    "                          end=end,\n",
    "                          nan_replace_method='zero',\n",
    "                          raw_csv=f\"{well_code}_{start}_{end}_raw.csv\",\n",
    "                          weather_csv = f\"{S3.nearest_station[well_code]}_{start}_{end}_weather.csv\",\n",
    "                          to_pickle=True)"
   ]
  },
  {
   "cell_type": "code",
   "execution_count": 6,
   "metadata": {},
   "outputs": [
    {
     "name": "stdout",
     "output_type": "stream",
     "text": [
      "['Woomanooka', 'Epsilon', 'Moomba', 'Tirrawarra', 'Jackson']\n"
     ]
    }
   ],
   "source": [
    "S3.all_stations"
   ]
  },
  {
   "cell_type": "code",
   "execution_count": 3,
   "metadata": {},
   "outputs": [
    {
     "data": {
      "text/plain": [
       "2"
      ]
     },
     "execution_count": 3,
     "metadata": {},
     "output_type": "execute_result"
    }
   ],
   "source": [
    "1+1"
   ]
  },
  {
   "cell_type": "code",
   "execution_count": null,
   "metadata": {},
   "outputs": [],
   "source": []
  }
 ],
 "metadata": {
  "kernelspec": {
   "display_name": "Python 3.10.5 ('venv': venv)",
   "language": "python",
   "name": "python3"
  },
  "language_info": {
   "codemirror_mode": {
    "name": "ipython",
    "version": 3
   },
   "file_extension": ".py",
   "mimetype": "text/x-python",
   "name": "python",
   "nbconvert_exporter": "python",
   "pygments_lexer": "ipython3",
   "version": "3.10.5"
  },
  "orig_nbformat": 4,
  "vscode": {
   "interpreter": {
    "hash": "420d5b2b32d695581180f46d14c510b1ecc4facd3691240757c7a2a11a131081"
   }
  }
 },
 "nbformat": 4,
 "nbformat_minor": 2
}
