{
 "cells": [
  {
   "cell_type": "code",
   "execution_count": 1,
   "metadata": {},
   "outputs": [],
   "source": [
    "from Dataset.DataManager import DataManager\n",
    "from Dataset.Dataset import Dataset\n",
    "import config.__config__ as base_config\n",
    "from utils.advancedanalytics_util import aauconnect_\n",
    "from Model.FeatureExtractor import FeatureExtractor\n"
   ]
  },
  {
   "cell_type": "code",
   "execution_count": 2,
   "metadata": {},
   "outputs": [],
   "source": [
    "config = base_config.init()\n",
    "connection = aauconnect_(config['cfg_file_info'])\n",
    "dataset = Dataset(connection, path=\"C:/Users/HoangLe/Desktop/Consilium_ROC_HOANG/app_prod/roc/PROCESSED_DATA\",\n",
    "                  file_prefix=\"ROC_PROCESSED_DATA\",file_suffix=\".csv\",bucket=config['cfg_s3_info']['bucket'],\n",
    "                  features=[\"ROC_VOLTAGE\",\"FLOW\",\"PRESSURE_TH\"])\n",
    "manager = DataManager([\"ACRUS1\"],\"backfill\",\"2018-01-01 00:00\",dataset,inference_window=29,)"
   ]
  },
  {
   "cell_type": "code",
   "execution_count": 3,
   "metadata": {},
   "outputs": [],
   "source": [
    "df = manager.get_inference_dataset()"
   ]
  },
  {
   "cell_type": "code",
   "execution_count": 4,
   "metadata": {},
   "outputs": [],
   "source": [
    "agg_df = df[\"ACRUS1\"]"
   ]
  },
  {
   "cell_type": "code",
   "execution_count": 6,
   "metadata": {},
   "outputs": [],
   "source": [
    "model = FeatureExtractor(\"ACRUS1\",agg_df)"
   ]
  },
  {
   "cell_type": "code",
   "execution_count": 12,
   "metadata": {},
   "outputs": [
    {
     "data": {
      "text/plain": [
       "2017-12-03    0\n",
       "2017-12-04    0\n",
       "2017-12-05    0\n",
       "2017-12-06    0\n",
       "2017-12-07    0\n",
       "2017-12-08    0\n",
       "2017-12-09    0\n",
       "2017-12-10    0\n",
       "2017-12-11    0\n",
       "2017-12-12    0\n",
       "2017-12-13    0\n",
       "2017-12-14    0\n",
       "2017-12-15    0\n",
       "2017-12-16    0\n",
       "2017-12-17    0\n",
       "2017-12-18    0\n",
       "2017-12-19    0\n",
       "2017-12-20    0\n",
       "2017-12-21    0\n",
       "2017-12-22    0\n",
       "2017-12-23    0\n",
       "2017-12-24    0\n",
       "2017-12-25    0\n",
       "2017-12-26    0\n",
       "2017-12-27    0\n",
       "2017-12-28    0\n",
       "2017-12-29    0\n",
       "2017-12-30    0\n",
       "2017-12-31    0\n",
       "2018-01-01    0\n",
       "Name: labels, dtype: int32"
      ]
     },
     "execution_count": 12,
     "metadata": {},
     "output_type": "execute_result"
    }
   ],
   "source": [
    "model.get_weather_label()"
   ]
  },
  {
   "cell_type": "code",
   "execution_count": null,
   "metadata": {},
   "outputs": [],
   "source": []
  }
 ],
 "metadata": {
  "kernelspec": {
   "display_name": "Python 3.10.8 ('venv')",
   "language": "python",
   "name": "python3"
  },
  "language_info": {
   "codemirror_mode": {
    "name": "ipython",
    "version": 3
   },
   "file_extension": ".py",
   "mimetype": "text/x-python",
   "name": "python",
   "nbconvert_exporter": "python",
   "pygments_lexer": "ipython3",
   "version": "3.10.8"
  },
  "orig_nbformat": 4,
  "vscode": {
   "interpreter": {
    "hash": "1b8e82fe965d67b4d52727d9e01393d93b5bd7738491028c5420b39b71b9499d"
   }
  }
 },
 "nbformat": 4,
 "nbformat_minor": 2
}
