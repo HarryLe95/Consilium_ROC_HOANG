{
 "cells": [
  {
   "cell_type": "code",
   "execution_count": 1,
   "metadata": {},
   "outputs": [],
   "source": [
    "import boto3\n",
    "import src.roc._manual_labels_config as roc_manual_labels_config\n",
    "import src.roc.state as roc_state\n",
    "import numpy as np \n",
    "from src.aau.S3Manager import S3Manager\n",
    "from src.ROC_Classifier.DataPipe import S3ROCManager\n",
    "from src.utils.PathManager import Paths as Path\n",
    "import pandas as pd \n",
    "import yaml \n",
    "config = roc_manual_labels_config.init()"
   ]
  },
  {
   "cell_type": "markdown",
   "metadata": {},
   "source": [
    "### Init S3 Manager"
   ]
  },
  {
   "cell_type": "code",
   "execution_count": 2,
   "metadata": {},
   "outputs": [
    {
     "name": "stdout",
     "output_type": "stream",
     "text": [
      "['TIRRA75', 'WAUK5']\n"
     ]
    }
   ],
   "source": [
    "S3 = S3ROCManager(config['procdata_info'])\n",
    "print(S3.all_labelled_wells)"
   ]
  },
  {
   "cell_type": "markdown",
   "metadata": {},
   "source": [
    "### Download well data and labels"
   ]
  },
  {
   "cell_type": "code",
   "execution_count": 3,
   "metadata": {},
   "outputs": [
    {
     "name": "stderr",
     "output_type": "stream",
     "text": [
      "WARNING:root:Object ROC/PROCESSED_DATA/ACRUS1_ROC_PROCESSED_DATA_20160101_20160201.csv doesn't exists on the provided S3 Bucket.\n",
      "WARNING:root:Object ROC/PROCESSED_DATA/ACRUS1_ROC_PROCESSED_DATA_20160201_20160301.csv doesn't exists on the provided S3 Bucket.\n",
      "WARNING:root:Object ROC/PROCESSED_DATA/ACRUS1_ROC_PROCESSED_DATA_20160301_20160401.csv doesn't exists on the provided S3 Bucket.\n",
      "WARNING:root:Object ROC/PROCESSED_DATA/ACRUS1_ROC_PROCESSED_DATA_20160401_20160501.csv doesn't exists on the provided S3 Bucket.\n",
      "WARNING:root:Object ROC/PROCESSED_DATA/ACRUS1_ROC_PROCESSED_DATA_20160501_20160601.csv doesn't exists on the provided S3 Bucket.\n"
     ]
    },
    {
     "name": "stdout",
     "output_type": "stream",
     "text": [
      "An error occurred (InvalidObjectState) when calling the GetObject operation: The operation is not valid for the object's storage class\n",
      "An error occurred (InvalidObjectState) when calling the GetObject operation: The operation is not valid for the object's storage class\n",
      "An error occurred (InvalidObjectState) when calling the GetObject operation: The operation is not valid for the object's storage class\n",
      "An error occurred (InvalidObjectState) when calling the GetObject operation: The operation is not valid for the object's storage class\n",
      "An error occurred (InvalidObjectState) when calling the GetObject operation: The operation is not valid for the object's storage class\n",
      "An error occurred (InvalidObjectState) when calling the GetObject operation: The operation is not valid for the object's storage class\n",
      "An error occurred (InvalidObjectState) when calling the GetObject operation: The operation is not valid for the object's storage class\n",
      "An error occurred (InvalidObjectState) when calling the GetObject operation: The operation is not valid for the object's storage class\n",
      "An error occurred (InvalidObjectState) when calling the GetObject operation: The operation is not valid for the object's storage class\n",
      "An error occurred (InvalidObjectState) when calling the GetObject operation: The operation is not valid for the object's storage class\n",
      "An error occurred (InvalidObjectState) when calling the GetObject operation: The operation is not valid for the object's storage class\n",
      "An error occurred (InvalidObjectState) when calling the GetObject operation: The operation is not valid for the object's storage class\n",
      "An error occurred (InvalidObjectState) when calling the GetObject operation: The operation is not valid for the object's storage class\n",
      "An error occurred (InvalidObjectState) when calling the GetObject operation: The operation is not valid for the object's storage class\n",
      "An error occurred (InvalidObjectState) when calling the GetObject operation: The operation is not valid for the object's storage class\n",
      "An error occurred (InvalidObjectState) when calling the GetObject operation: The operation is not valid for the object's storage class\n",
      "An error occurred (InvalidObjectState) when calling the GetObject operation: The operation is not valid for the object's storage class\n",
      "An error occurred (InvalidObjectState) when calling the GetObject operation: The operation is not valid for the object's storage class\n",
      "An error occurred (InvalidObjectState) when calling the GetObject operation: The operation is not valid for the object's storage class\n",
      "An error occurred (InvalidObjectState) when calling the GetObject operation: The operation is not valid for the object's storage class\n",
      "An error occurred (InvalidObjectState) when calling the GetObject operation: The operation is not valid for the object's storage class\n",
      "An error occurred (InvalidObjectState) when calling the GetObject operation: The operation is not valid for the object's storage class\n",
      "An error occurred (InvalidObjectState) when calling the GetObject operation: The operation is not valid for the object's storage class\n",
      "An error occurred (InvalidObjectState) when calling the GetObject operation: The operation is not valid for the object's storage class\n",
      "An error occurred (InvalidObjectState) when calling the GetObject operation: The operation is not valid for the object's storage class\n",
      "An error occurred (InvalidObjectState) when calling the GetObject operation: The operation is not valid for the object's storage class\n",
      "An error occurred (InvalidObjectState) when calling the GetObject operation: The operation is not valid for the object's storage class\n",
      "An error occurred (InvalidObjectState) when calling the GetObject operation: The operation is not valid for the object's storage class\n",
      "An error occurred (InvalidObjectState) when calling the GetObject operation: The operation is not valid for the object's storage class\n",
      "An error occurred (InvalidObjectState) when calling the GetObject operation: The operation is not valid for the object's storage class\n",
      "An error occurred (InvalidObjectState) when calling the GetObject operation: The operation is not valid for the object's storage class\n",
      "An error occurred (InvalidObjectState) when calling the GetObject operation: The operation is not valid for the object's storage class\n",
      "An error occurred (InvalidObjectState) when calling the GetObject operation: The operation is not valid for the object's storage class\n",
      "An error occurred (InvalidObjectState) when calling the GetObject operation: The operation is not valid for the object's storage class\n",
      "An error occurred (InvalidObjectState) when calling the GetObject operation: The operation is not valid for the object's storage class\n",
      "An error occurred (InvalidObjectState) when calling the GetObject operation: The operation is not valid for the object's storage class\n",
      "An error occurred (InvalidObjectState) when calling the GetObject operation: The operation is not valid for the object's storage class\n",
      "An error occurred (InvalidObjectState) when calling the GetObject operation: The operation is not valid for the object's storage class\n",
      "An error occurred (InvalidObjectState) when calling the GetObject operation: The operation is not valid for the object's storage class\n",
      "An error occurred (InvalidObjectState) when calling the GetObject operation: The operation is not valid for the object's storage class\n",
      "An error occurred (InvalidObjectState) when calling the GetObject operation: The operation is not valid for the object's storage class\n",
      "An error occurred (InvalidObjectState) when calling the GetObject operation: The operation is not valid for the object's storage class\n",
      "An error occurred (InvalidObjectState) when calling the GetObject operation: The operation is not valid for the object's storage class\n",
      "An error occurred (InvalidObjectState) when calling the GetObject operation: The operation is not valid for the object's storage class\n",
      "An error occurred (InvalidObjectState) when calling the GetObject operation: The operation is not valid for the object's storage class\n",
      "An error occurred (InvalidObjectState) when calling the GetObject operation: The operation is not valid for the object's storage class\n",
      "An error occurred (InvalidObjectState) when calling the GetObject operation: The operation is not valid for the object's storage class\n",
      "An error occurred (InvalidObjectState) when calling the GetObject operation: The operation is not valid for the object's storage class\n",
      "An error occurred (InvalidObjectState) when calling the GetObject operation: The operation is not valid for the object's storage class\n",
      "An error occurred (InvalidObjectState) when calling the GetObject operation: The operation is not valid for the object's storage class\n",
      "An error occurred (InvalidObjectState) when calling the GetObject operation: The operation is not valid for the object's storage class\n",
      "An error occurred (InvalidObjectState) when calling the GetObject operation: The operation is not valid for the object's storage class\n",
      "An error occurred (InvalidObjectState) when calling the GetObject operation: The operation is not valid for the object's storage class\n",
      "An error occurred (InvalidObjectState) when calling the GetObject operation: The operation is not valid for the object's storage class\n",
      "An error occurred (InvalidObjectState) when calling the GetObject operation: The operation is not valid for the object's storage class\n",
      "An error occurred (InvalidObjectState) when calling the GetObject operation: The operation is not valid for the object's storage class\n",
      "An error occurred (InvalidObjectState) when calling the GetObject operation: The operation is not valid for the object's storage class\n",
      "An error occurred (InvalidObjectState) when calling the GetObject operation: The operation is not valid for the object's storage class\n",
      "An error occurred (InvalidObjectState) when calling the GetObject operation: The operation is not valid for the object's storage class\n",
      "An error occurred (InvalidObjectState) when calling the GetObject operation: The operation is not valid for the object's storage class\n",
      "An error occurred (InvalidObjectState) when calling the GetObject operation: The operation is not valid for the object's storage class\n",
      "An error occurred (InvalidObjectState) when calling the GetObject operation: The operation is not valid for the object's storage class\n",
      "An error occurred (InvalidObjectState) when calling the GetObject operation: The operation is not valid for the object's storage class\n",
      "An error occurred (InvalidObjectState) when calling the GetObject operation: The operation is not valid for the object's storage class\n",
      "An error occurred (InvalidObjectState) when calling the GetObject operation: The operation is not valid for the object's storage class\n",
      "An error occurred (InvalidObjectState) when calling the GetObject operation: The operation is not valid for the object's storage class\n",
      "An error occurred (InvalidObjectState) when calling the GetObject operation: The operation is not valid for the object's storage class\n",
      "An error occurred (InvalidObjectState) when calling the GetObject operation: The operation is not valid for the object's storage class\n",
      "An error occurred (InvalidObjectState) when calling the GetObject operation: The operation is not valid for the object's storage class\n",
      "An error occurred (InvalidObjectState) when calling the GetObject operation: The operation is not valid for the object's storage class\n",
      "An error occurred (InvalidObjectState) when calling the GetObject operation: The operation is not valid for the object's storage class\n"
     ]
    },
    {
     "name": "stderr",
     "output_type": "stream",
     "text": [
      "WARNING:root:Object ROC/PROCESSED_DATA/ACRUS1_ROC_PROCESSED_DATA_20220701_20220801.csv doesn't exists on the provided S3 Bucket.\n",
      "WARNING:root:Object ROC/PROCESSED_DATA/ACRUS1_ROC_PROCESSED_DATA_20220801_20220901.csv doesn't exists on the provided S3 Bucket.\n",
      "WARNING:root:Object ROC/PROCESSED_DATA/ACRUS1_ROC_PROCESSED_DATA_20220901_20221001.csv doesn't exists on the provided S3 Bucket.\n",
      "WARNING:root:Object ROC/PROCESSED_DATA/ACRUS1_ROC_PROCESSED_DATA_20221001_20221101.csv doesn't exists on the provided S3 Bucket.\n",
      "WARNING:root:Object ROC/PROCESSED_DATA/ACRUS1_ROC_PROCESSED_DATA_20221101_20221201.csv doesn't exists on the provided S3 Bucket.\n",
      "WARNING:root:Object ROC/PROCESSED_DATA/ACRUS1_ROC_PROCESSED_DATA_20221201_20230101.csv doesn't exists on the provided S3 Bucket.\n"
     ]
    },
    {
     "name": "stdout",
     "output_type": "stream",
     "text": [
      "An error occurred (InvalidObjectState) when calling the GetObject operation: The operation is not valid for the object's storage class\n",
      "An error occurred (InvalidObjectState) when calling the GetObject operation: The operation is not valid for the object's storage class\n"
     ]
    },
    {
     "ename": "ValueError",
     "evalue": "All objects passed were None",
     "output_type": "error",
     "traceback": [
      "\u001b[1;31m---------------------------------------------------------------------------\u001b[0m",
      "\u001b[1;31mValueError\u001b[0m                                Traceback (most recent call last)",
      "Cell \u001b[1;32mIn [3], line 3\u001b[0m\n\u001b[0;32m      1\u001b[0m \u001b[38;5;66;03m#Download all raw data\u001b[39;00m\n\u001b[0;32m      2\u001b[0m \u001b[38;5;28;01mfor\u001b[39;00m well_code \u001b[38;5;129;01min\u001b[39;00m S3\u001b[38;5;241m.\u001b[39mall_labelled_wells:\n\u001b[1;32m----> 3\u001b[0m     \u001b[43mS3\u001b[49m\u001b[38;5;241;43m.\u001b[39;49m\u001b[43mread_processed_data\u001b[49m\u001b[43m(\u001b[49m\u001b[43mwell_code\u001b[49m\u001b[43m \u001b[49m\u001b[38;5;241;43m=\u001b[39;49m\u001b[43m \u001b[49m\u001b[43mwell_code\u001b[49m\u001b[43m,\u001b[49m\u001b[43m \u001b[49m\u001b[43mstart\u001b[49m\u001b[38;5;241;43m=\u001b[39;49m\u001b[38;5;124;43m\"\u001b[39;49m\u001b[38;5;124;43m2016-01-01\u001b[39;49m\u001b[38;5;124;43m\"\u001b[39;49m\u001b[43m,\u001b[49m\u001b[43m \u001b[49m\u001b[43mend\u001b[49m\u001b[38;5;241;43m=\u001b[39;49m\u001b[38;5;124;43m\"\u001b[39;49m\u001b[38;5;124;43m2023-01-01\u001b[39;49m\u001b[38;5;124;43m\"\u001b[39;49m\u001b[43m,\u001b[49m\u001b[43m \u001b[49m\u001b[43mnan_replace_method\u001b[49m\u001b[38;5;241;43m=\u001b[39;49m\u001b[38;5;124;43m'\u001b[39;49m\u001b[38;5;124;43mzero\u001b[39;49m\u001b[38;5;124;43m'\u001b[39;49m\u001b[43m,\u001b[49m\u001b[43mto_csv\u001b[49m\u001b[38;5;241;43m=\u001b[39;49m\u001b[38;5;28;43;01mTrue\u001b[39;49;00m\u001b[43m)\u001b[49m\n",
      "File \u001b[1;32mc:\\Users\\Administrator\\Desktop\\Consilium-ROC-Hoang\\app\\src\\ROC_Classifier\\DataPipe.py:303\u001b[0m, in \u001b[0;36mS3ROCManager.read_processed_data\u001b[1;34m(self, well_code, start, end, strp_format, strf_format, nan_replace_method, to_csv)\u001b[0m\n\u001b[0;32m    287\u001b[0m \u001b[39m\"\"\"Read combined sensor data from S3 database \u001b[39;00m\n\u001b[0;32m    288\u001b[0m \n\u001b[0;32m    289\u001b[0m \u001b[39mArgs:\u001b[39;00m\n\u001b[1;32m   (...)\u001b[0m\n\u001b[0;32m    299\u001b[0m \u001b[39m    pd.DataFrame: combined raw data\u001b[39;00m\n\u001b[0;32m    300\u001b[0m \u001b[39m\"\"\"\u001b[39;00m\n\u001b[0;32m    302\u001b[0m logger\u001b[39m.\u001b[39minfo(\u001b[39mf\u001b[39m\u001b[39m\"\u001b[39m\u001b[39mRead well data from database for well: \u001b[39m\u001b[39m{\u001b[39;00mwell_code\u001b[39m}\u001b[39;00m\u001b[39m from \u001b[39m\u001b[39m{\u001b[39;00mstart\u001b[39m}\u001b[39;00m\u001b[39m to \u001b[39m\u001b[39m{\u001b[39;00mend\u001b[39m}\u001b[39;00m\u001b[39m\"\u001b[39m)\n\u001b[1;32m--> 303\u001b[0m alldf \u001b[39m=\u001b[39m  \u001b[39mself\u001b[39m\u001b[39m.\u001b[39mread_from_storage(item_cd\u001b[39m=\u001b[39mwell_code, start\u001b[39m=\u001b[39mstart, end \u001b[39m=\u001b[39m end,\n\u001b[0;32m    304\u001b[0m                               strp_format\u001b[39m=\u001b[39mstrp_format, strf_format\u001b[39m=\u001b[39mstrf_format,\n\u001b[0;32m    305\u001b[0m                               \u001b[39m*\u001b[39m\u001b[39m*\u001b[39m\u001b[39mself\u001b[39m\u001b[39m.\u001b[39mprocessed_data_dict)\n\u001b[0;32m    307\u001b[0m \u001b[39m#Processed data preprocessing - remove sub minute duplicates \u001b[39;00m\n\u001b[0;32m    308\u001b[0m \u001b[39m#Pad data to form continuous time sequence\u001b[39;00m\n\u001b[0;32m    309\u001b[0m \u001b[39m#Create Nan Mask, and replace nan \u001b[39;00m\n\u001b[0;32m    310\u001b[0m TS \u001b[39m=\u001b[39m \u001b[39mself\u001b[39m\u001b[39m.\u001b[39mprocessed_data_dict[\u001b[39m'\u001b[39m\u001b[39margs_ts\u001b[39m\u001b[39m'\u001b[39m]\n",
      "File \u001b[1;32mc:\\Users\\Administrator\\Desktop\\Consilium-ROC-Hoang\\app\\src\\aau\\S3Manager.py:292\u001b[0m, in \u001b[0;36mS3Manager.read_from_storage\u001b[1;34m(self, path, file_prefix, item_cd, start, end, strp_format, strf_format, file_ext, bucket, **kwargs)\u001b[0m\n\u001b[0;32m    290\u001b[0m         result \u001b[39m=\u001b[39m \u001b[39mself\u001b[39m\u001b[39m.\u001b[39mread(sql\u001b[39m=\u001b[39m\u001b[39mNone\u001b[39;00m, args\u001b[39m=\u001b[39m{}, edit\u001b[39m=\u001b[39m[], orient\u001b[39m=\u001b[39m\u001b[39m'\u001b[39m\u001b[39mdf\u001b[39m\u001b[39m'\u001b[39m, do_raise\u001b[39m=\u001b[39m\u001b[39mFalse\u001b[39;00m, \u001b[39m*\u001b[39m\u001b[39m*\u001b[39mkwargs)\n\u001b[0;32m    291\u001b[0m         alldf\u001b[39m.\u001b[39mappend(result) \n\u001b[1;32m--> 292\u001b[0m \u001b[39mreturn\u001b[39;00m pd\u001b[39m.\u001b[39;49mconcat(alldf, ignore_index\u001b[39m=\u001b[39;49m\u001b[39mTrue\u001b[39;49;00m)\n",
      "File \u001b[1;32mc:\\Users\\Administrator\\Desktop\\Consilium-ROC-Hoang\\venv\\lib\\site-packages\\pandas\\util\\_decorators.py:311\u001b[0m, in \u001b[0;36mdeprecate_nonkeyword_arguments.<locals>.decorate.<locals>.wrapper\u001b[1;34m(*args, **kwargs)\u001b[0m\n\u001b[0;32m    305\u001b[0m \u001b[39mif\u001b[39;00m \u001b[39mlen\u001b[39m(args) \u001b[39m>\u001b[39m num_allow_args:\n\u001b[0;32m    306\u001b[0m     warnings\u001b[39m.\u001b[39mwarn(\n\u001b[0;32m    307\u001b[0m         msg\u001b[39m.\u001b[39mformat(arguments\u001b[39m=\u001b[39marguments),\n\u001b[0;32m    308\u001b[0m         \u001b[39mFutureWarning\u001b[39;00m,\n\u001b[0;32m    309\u001b[0m         stacklevel\u001b[39m=\u001b[39mstacklevel,\n\u001b[0;32m    310\u001b[0m     )\n\u001b[1;32m--> 311\u001b[0m \u001b[39mreturn\u001b[39;00m func(\u001b[39m*\u001b[39margs, \u001b[39m*\u001b[39m\u001b[39m*\u001b[39mkwargs)\n",
      "File \u001b[1;32mc:\\Users\\Administrator\\Desktop\\Consilium-ROC-Hoang\\venv\\lib\\site-packages\\pandas\\core\\reshape\\concat.py:347\u001b[0m, in \u001b[0;36mconcat\u001b[1;34m(objs, axis, join, ignore_index, keys, levels, names, verify_integrity, sort, copy)\u001b[0m\n\u001b[0;32m    143\u001b[0m \u001b[39m@deprecate_nonkeyword_arguments\u001b[39m(version\u001b[39m=\u001b[39m\u001b[39mNone\u001b[39;00m, allowed_args\u001b[39m=\u001b[39m[\u001b[39m\"\u001b[39m\u001b[39mobjs\u001b[39m\u001b[39m\"\u001b[39m])\n\u001b[0;32m    144\u001b[0m \u001b[39mdef\u001b[39;00m \u001b[39mconcat\u001b[39m(\n\u001b[0;32m    145\u001b[0m     objs: Iterable[NDFrame] \u001b[39m|\u001b[39m Mapping[Hashable, NDFrame],\n\u001b[1;32m   (...)\u001b[0m\n\u001b[0;32m    154\u001b[0m     copy: \u001b[39mbool\u001b[39m \u001b[39m=\u001b[39m \u001b[39mTrue\u001b[39;00m,\n\u001b[0;32m    155\u001b[0m ) \u001b[39m-\u001b[39m\u001b[39m>\u001b[39m DataFrame \u001b[39m|\u001b[39m Series:\n\u001b[0;32m    156\u001b[0m     \u001b[39m\"\"\"\u001b[39;00m\n\u001b[0;32m    157\u001b[0m \u001b[39m    Concatenate pandas objects along a particular axis with optional set logic\u001b[39;00m\n\u001b[0;32m    158\u001b[0m \u001b[39m    along the other axes.\u001b[39;00m\n\u001b[1;32m   (...)\u001b[0m\n\u001b[0;32m    345\u001b[0m \u001b[39m    ValueError: Indexes have overlapping values: ['a']\u001b[39;00m\n\u001b[0;32m    346\u001b[0m \u001b[39m    \"\"\"\u001b[39;00m\n\u001b[1;32m--> 347\u001b[0m     op \u001b[39m=\u001b[39m _Concatenator(\n\u001b[0;32m    348\u001b[0m         objs,\n\u001b[0;32m    349\u001b[0m         axis\u001b[39m=\u001b[39;49maxis,\n\u001b[0;32m    350\u001b[0m         ignore_index\u001b[39m=\u001b[39;49mignore_index,\n\u001b[0;32m    351\u001b[0m         join\u001b[39m=\u001b[39;49mjoin,\n\u001b[0;32m    352\u001b[0m         keys\u001b[39m=\u001b[39;49mkeys,\n\u001b[0;32m    353\u001b[0m         levels\u001b[39m=\u001b[39;49mlevels,\n\u001b[0;32m    354\u001b[0m         names\u001b[39m=\u001b[39;49mnames,\n\u001b[0;32m    355\u001b[0m         verify_integrity\u001b[39m=\u001b[39;49mverify_integrity,\n\u001b[0;32m    356\u001b[0m         copy\u001b[39m=\u001b[39;49mcopy,\n\u001b[0;32m    357\u001b[0m         sort\u001b[39m=\u001b[39;49msort,\n\u001b[0;32m    358\u001b[0m     )\n\u001b[0;32m    360\u001b[0m     \u001b[39mreturn\u001b[39;00m op\u001b[39m.\u001b[39mget_result()\n",
      "File \u001b[1;32mc:\\Users\\Administrator\\Desktop\\Consilium-ROC-Hoang\\venv\\lib\\site-packages\\pandas\\core\\reshape\\concat.py:427\u001b[0m, in \u001b[0;36m_Concatenator.__init__\u001b[1;34m(self, objs, axis, join, keys, levels, names, ignore_index, verify_integrity, copy, sort)\u001b[0m\n\u001b[0;32m    424\u001b[0m         keys \u001b[39m=\u001b[39m Index(clean_keys, name\u001b[39m=\u001b[39mname)\n\u001b[0;32m    426\u001b[0m \u001b[39mif\u001b[39;00m \u001b[39mlen\u001b[39m(objs) \u001b[39m==\u001b[39m \u001b[39m0\u001b[39m:\n\u001b[1;32m--> 427\u001b[0m     \u001b[39mraise\u001b[39;00m \u001b[39mValueError\u001b[39;00m(\u001b[39m\"\u001b[39m\u001b[39mAll objects passed were None\u001b[39m\u001b[39m\"\u001b[39m)\n\u001b[0;32m    429\u001b[0m \u001b[39m# figure out what our result ndim is going to be\u001b[39;00m\n\u001b[0;32m    430\u001b[0m ndims \u001b[39m=\u001b[39m \u001b[39mset\u001b[39m()\n",
      "\u001b[1;31mValueError\u001b[0m: All objects passed were None"
     ]
    }
   ],
   "source": [
    "#Download all raw data\n",
    "for well_code in S3.all_labelled_wells:\n",
    "    S3.read_processed_data(well_code = well_code, start=\"2016-01-01\", end=\"2023-01-01\", nan_replace_method='zero',to_csv=True)"
   ]
  },
  {
   "cell_type": "code",
   "execution_count": null,
   "metadata": {},
   "outputs": [],
   "source": [
    "#Download all weather data\n",
    "for station in S3.all_stations:\n",
    "    station_df = S3.read_solar(station,'2016-01-01','2023-01-01',to_csv=True)"
   ]
  },
  {
   "cell_type": "code",
   "execution_count": 3,
   "metadata": {},
   "outputs": [
    {
     "name": "stderr",
     "output_type": "stream",
     "text": [
      "Issue processing well WKT3, incomplete feature length. Feature: ROC_VOLTAGE, size: 9995\n"
     ]
    }
   ],
   "source": [
    "\n",
    "#Download all labels\n",
    "start=\"2016-01-01\"\n",
    "end=\"2023-01-01\"\n",
    "for well_code in S3.all_labelled_wells:\n",
    "    S3.read_labelled_data(well_code = well_code, \n",
    "                          start=start,\n",
    "                          end=end,\n",
    "                          nan_replace_method='zero',\n",
    "                          raw_csv=f\"{well_code}_{start}_{end}_raw.csv\",\n",
    "                          weather_csv = f\"{S3.nearest_station[well_code]}_{start}_{end}_weather.csv\",\n",
    "                          to_pickle=True)"
   ]
  },
  {
   "cell_type": "markdown",
   "metadata": {},
   "source": [
    "### Classify well types"
   ]
  },
  {
   "cell_type": "code",
   "execution_count": 3,
   "metadata": {},
   "outputs": [],
   "source": [
    "S3.classify_voltage_type()"
   ]
  },
  {
   "cell_type": "markdown",
   "metadata": {},
   "source": [
    "### Calculate transform params"
   ]
  },
  {
   "cell_type": "code",
   "execution_count": null,
   "metadata": {},
   "outputs": [],
   "source": [
    "S3.calculate_weather_transform_params()"
   ]
  },
  {
   "cell_type": "code",
   "execution_count": null,
   "metadata": {},
   "outputs": [],
   "source": [
    "S3.calculate_well_transform_params()"
   ]
  },
  {
   "cell_type": "markdown",
   "metadata": {},
   "source": [
    "### Get label description"
   ]
  },
  {
   "cell_type": "code",
   "execution_count": 61,
   "metadata": {},
   "outputs": [
    {
     "data": {
      "text/html": [
       "<div>\n",
       "<style scoped>\n",
       "    .dataframe tbody tr th:only-of-type {\n",
       "        vertical-align: middle;\n",
       "    }\n",
       "\n",
       "    .dataframe tbody tr th {\n",
       "        vertical-align: top;\n",
       "    }\n",
       "\n",
       "    .dataframe thead th {\n",
       "        text-align: right;\n",
       "    }\n",
       "</style>\n",
       "<table border=\"1\" class=\"dataframe\">\n",
       "  <thead>\n",
       "    <tr style=\"text-align: right;\">\n",
       "      <th></th>\n",
       "      <th>0</th>\n",
       "      <th>1</th>\n",
       "      <th>2</th>\n",
       "      <th>3</th>\n",
       "      <th>4</th>\n",
       "      <th>5</th>\n",
       "      <th>6</th>\n",
       "      <th>7</th>\n",
       "      <th>8</th>\n",
       "      <th>9</th>\n",
       "    </tr>\n",
       "  </thead>\n",
       "  <tbody>\n",
       "    <tr>\n",
       "      <th>BIGL20</th>\n",
       "      <td>129</td>\n",
       "      <td>7</td>\n",
       "      <td>0</td>\n",
       "      <td>0</td>\n",
       "      <td>0</td>\n",
       "      <td>0</td>\n",
       "      <td>0</td>\n",
       "      <td>11</td>\n",
       "      <td>25</td>\n",
       "      <td>9</td>\n",
       "    </tr>\n",
       "    <tr>\n",
       "      <th>BIGL22</th>\n",
       "      <td>115</td>\n",
       "      <td>3</td>\n",
       "      <td>3</td>\n",
       "      <td>1</td>\n",
       "      <td>0</td>\n",
       "      <td>13</td>\n",
       "      <td>0</td>\n",
       "      <td>25</td>\n",
       "      <td>5</td>\n",
       "      <td>16</td>\n",
       "    </tr>\n",
       "    <tr>\n",
       "      <th>MOOM115</th>\n",
       "      <td>118</td>\n",
       "      <td>0</td>\n",
       "      <td>7</td>\n",
       "      <td>0</td>\n",
       "      <td>1</td>\n",
       "      <td>25</td>\n",
       "      <td>0</td>\n",
       "      <td>21</td>\n",
       "      <td>0</td>\n",
       "      <td>18</td>\n",
       "    </tr>\n",
       "    <tr>\n",
       "      <th>MOOM157</th>\n",
       "      <td>77</td>\n",
       "      <td>5</td>\n",
       "      <td>0</td>\n",
       "      <td>1</td>\n",
       "      <td>0</td>\n",
       "      <td>0</td>\n",
       "      <td>0</td>\n",
       "      <td>11</td>\n",
       "      <td>88</td>\n",
       "      <td>9</td>\n",
       "    </tr>\n",
       "    <tr>\n",
       "      <th>TIRRA80</th>\n",
       "      <td>145</td>\n",
       "      <td>1</td>\n",
       "      <td>0</td>\n",
       "      <td>147</td>\n",
       "      <td>53</td>\n",
       "      <td>1</td>\n",
       "      <td>0</td>\n",
       "      <td>1</td>\n",
       "      <td>3</td>\n",
       "      <td>2</td>\n",
       "    </tr>\n",
       "    <tr>\n",
       "      <th>TOOL16</th>\n",
       "      <td>160</td>\n",
       "      <td>3</td>\n",
       "      <td>0</td>\n",
       "      <td>0</td>\n",
       "      <td>0</td>\n",
       "      <td>0</td>\n",
       "      <td>0</td>\n",
       "      <td>6</td>\n",
       "      <td>0</td>\n",
       "      <td>8</td>\n",
       "    </tr>\n",
       "    <tr>\n",
       "      <th>WKT3</th>\n",
       "      <td>685</td>\n",
       "      <td>10</td>\n",
       "      <td>2</td>\n",
       "      <td>143</td>\n",
       "      <td>13</td>\n",
       "      <td>15</td>\n",
       "      <td>0</td>\n",
       "      <td>5</td>\n",
       "      <td>7</td>\n",
       "      <td>31</td>\n",
       "    </tr>\n",
       "  </tbody>\n",
       "</table>\n",
       "</div>"
      ],
      "text/plain": [
       "           0   1  2    3   4   5  6   7   8   9\n",
       "BIGL20   129   7  0    0   0   0  0  11  25   9\n",
       "BIGL22   115   3  3    1   0  13  0  25   5  16\n",
       "MOOM115  118   0  7    0   1  25  0  21   0  18\n",
       "MOOM157   77   5  0    1   0   0  0  11  88   9\n",
       "TIRRA80  145   1  0  147  53   1  0   1   3   2\n",
       "TOOL16   160   3  0    0   0   0  0   6   0   8\n",
       "WKT3     685  10  2  143  13  15  0   5   7  31"
      ]
     },
     "execution_count": 61,
     "metadata": {},
     "output_type": "execute_result"
    }
   ],
   "source": [
    "S3.get_well_label_count()\n",
    "S3.well_label_count[S3.well_label_count[9]!=0]"
   ]
  },
  {
   "cell_type": "code",
   "execution_count": 51,
   "metadata": {},
   "outputs": [],
   "source": [
    "all_df = {}\n",
    "for well in S3.label_dict:\n",
    "    all_df[well] = pd.DataFrame({'labels': S3.label_dict[well].values()},index=S3.label_dict[well].keys())"
   ]
  },
  {
   "cell_type": "code",
   "execution_count": null,
   "metadata": {},
   "outputs": [],
   "source": [
    "all_df[\"BIGL20\"]"
   ]
  },
  {
   "cell_type": "code",
   "execution_count": 9,
   "metadata": {},
   "outputs": [
    {
     "name": "stderr",
     "output_type": "stream",
     "text": [
      "ERROR:src.ROC_Classifier.DataPipe:Error encountered: name 'nan' is not defined\n",
      "INFO:src.ROC_Classifier.DataPipe:Getting nearest well:station dict.\n"
     ]
    },
    {
     "data": {
      "text/plain": [
       "{'TIRRA75': 'Tirrawarra', 'WAUK5': 'Daralingie'}"
      ]
     },
     "execution_count": 9,
     "metadata": {},
     "output_type": "execute_result"
    }
   ],
   "source": [
    "S3.get_nearest_station(target_wells = ['TIRRA75','WAUK5'])"
   ]
  },
  {
   "cell_type": "code",
   "execution_count": null,
   "metadata": {},
   "outputs": [],
   "source": [
    "S3.get_nearest_station(target_wells = ['TIRRA75','WAUK5'])"
   ]
  }
 ],
 "metadata": {
  "kernelspec": {
   "display_name": "Python 3.10.8 ('venv')",
   "language": "python",
   "name": "python3"
  },
  "language_info": {
   "codemirror_mode": {
    "name": "ipython",
    "version": 3
   },
   "file_extension": ".py",
   "mimetype": "text/x-python",
   "name": "python",
   "nbconvert_exporter": "python",
   "pygments_lexer": "ipython3",
   "version": "3.10.8"
  },
  "orig_nbformat": 4,
  "vscode": {
   "interpreter": {
    "hash": "1b8e82fe965d67b4d52727d9e01393d93b5bd7738491028c5420b39b71b9499d"
   }
  }
 },
 "nbformat": 4,
 "nbformat_minor": 2
}
