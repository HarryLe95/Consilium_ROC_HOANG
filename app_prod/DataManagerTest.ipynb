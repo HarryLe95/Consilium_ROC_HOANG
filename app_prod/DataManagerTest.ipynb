{
 "cells": [
  {
   "cell_type": "code",
   "execution_count": 1,
   "metadata": {},
   "outputs": [],
   "source": [
    "from Dataset.DataManager import DataManager\n",
    "from Dataset.Dataset import DataOperator\n",
    "import config.__config__ as base_config\n",
    "from utils.advancedanalytics_util import aauconnect_\n",
    "from Model.FeatureExtractor import FeatureExtractor\n",
    "from utils.PathManager import PathManager\n",
    "from Model.ModelManager import *\n"
   ]
  },
  {
   "cell_type": "code",
   "execution_count": 2,
   "metadata": {},
   "outputs": [],
   "source": [
    "config = base_config.init()\n",
    "dataset = DataOperator(**config[\"data_connection_info\"], **config[\"roc_info\"])\n",
    "manager = DataManager([\"ACRUS1\"],\"backfill\",\"2018-01-01 00:00\",dataset,inference_window=30,)\n",
    "data = manager.get_inference_dataset()\n",
    "agg_df = data[\"ACRUS1\"]\n",
    "model = FeatureExtractor(agg_df)\n",
    "model_manager = ModelManager()"
   ]
  },
  {
   "cell_type": "code",
   "execution_count": 3,
   "metadata": {},
   "outputs": [
    {
     "data": {
      "text/html": [
       "<div>\n",
       "<style scoped>\n",
       "    .dataframe tbody tr th:only-of-type {\n",
       "        vertical-align: middle;\n",
       "    }\n",
       "\n",
       "    .dataframe tbody tr th {\n",
       "        vertical-align: top;\n",
       "    }\n",
       "\n",
       "    .dataframe thead th {\n",
       "        text-align: right;\n",
       "    }\n",
       "</style>\n",
       "<table border=\"1\" class=\"dataframe\">\n",
       "  <thead>\n",
       "    <tr style=\"text-align: right;\">\n",
       "      <th></th>\n",
       "      <th>ROC_VOLTAGE</th>\n",
       "      <th>FLOW</th>\n",
       "      <th>PRESSURE_TH</th>\n",
       "      <th>Mask_ROC_VOLTAGE</th>\n",
       "      <th>Mask_FLOW</th>\n",
       "      <th>Mask_PRESSURE_TH</th>\n",
       "    </tr>\n",
       "    <tr>\n",
       "      <th>TS</th>\n",
       "      <th></th>\n",
       "      <th></th>\n",
       "      <th></th>\n",
       "      <th></th>\n",
       "      <th></th>\n",
       "      <th></th>\n",
       "    </tr>\n",
       "  </thead>\n",
       "  <tbody>\n",
       "    <tr>\n",
       "      <th>2017-12-03</th>\n",
       "      <td>[12.4545002, 0.0, 12.4545002, 12.47226048, 0.0...</td>\n",
       "      <td>[46.82378006, 39.93077087, 35.22726822, 0.0, 3...</td>\n",
       "      <td>[1309.1138916, 1307.96533203, 1309.94946289, 1...</td>\n",
       "      <td>[1, 0, 1, 1, 0, 1, 0, 0, 1, 0, 0, 1, 0, 0, 1, ...</td>\n",
       "      <td>[1, 1, 1, 0, 1, 1, 1, 1, 1, 1, 1, 1, 1, 1, 1, ...</td>\n",
       "      <td>[1, 1, 1, 1, 1, 1, 1, 1, 1, 1, 1, 1, 1, 1, 1, ...</td>\n",
       "    </tr>\n",
       "    <tr>\n",
       "      <th>2017-12-04</th>\n",
       "      <td>[12.58619976, 0.0, 12.5697403, 0.0, 12.5718002...</td>\n",
       "      <td>[0.0, 38.76063919, 40.00085831, 40.01855087, 3...</td>\n",
       "      <td>[1354.83935547, 1350.55847168, 1352.85559082, ...</td>\n",
       "      <td>[1, 0, 1, 0, 1, 1, 0, 1, 0, 0, 0, 0, 1, 1, 1, ...</td>\n",
       "      <td>[0, 1, 1, 1, 1, 1, 1, 1, 0, 1, 1, 1, 1, 1, 1, ...</td>\n",
       "      <td>[1, 1, 1, 1, 1, 1, 1, 1, 1, 1, 1, 1, 1, 1, 1, ...</td>\n",
       "    </tr>\n",
       "    <tr>\n",
       "      <th>2017-12-05</th>\n",
       "      <td>[12.63004017, 12.61270046, 0.0, 0.0, 0.0, 12.6...</td>\n",
       "      <td>[34.39490891, 33.86185837, 35.38420105, 36.212...</td>\n",
       "      <td>[1359.22351074, 1359.22351074, 1359.22351074, ...</td>\n",
       "      <td>[1, 1, 0, 0, 0, 1, 0, 1, 0, 1, 0, 1, 1, 0, 0, ...</td>\n",
       "      <td>[1, 1, 1, 1, 1, 1, 1, 1, 1, 1, 1, 1, 1, 1, 1, ...</td>\n",
       "      <td>[1, 1, 1, 1, 1, 1, 1, 1, 1, 1, 1, 1, 1, 1, 1, ...</td>\n",
       "    </tr>\n",
       "    <tr>\n",
       "      <th>2017-12-06</th>\n",
       "      <td>[0.0, 0.0, 12.65235043, 0.0, 0.0, 0.0, 12.6618...</td>\n",
       "      <td>[0.0, 0.0, 40.32423019, 0.0, 38.67905045, 39.5...</td>\n",
       "      <td>[1398.16223145, 1397.11828613, 1396.80493164, ...</td>\n",
       "      <td>[0, 0, 1, 0, 0, 0, 1, 0, 0, 1, 0, 1, 1, 1, 1, ...</td>\n",
       "      <td>[0, 0, 1, 0, 1, 1, 1, 1, 1, 1, 1, 1, 1, 1, 0, ...</td>\n",
       "      <td>[1, 1, 1, 1, 1, 1, 1, 1, 1, 1, 1, 1, 1, 1, 1, ...</td>\n",
       "    </tr>\n",
       "    <tr>\n",
       "      <th>2017-12-07</th>\n",
       "      <td>[0.0, 0.0, 12.64698029, 12.6147604, 0.0, 0.0, ...</td>\n",
       "      <td>[38.38788986, 38.63837814, 41.27537155, 44.890...</td>\n",
       "      <td>[1459.44299316, 1459.44299316, 1460.06872559, ...</td>\n",
       "      <td>[0, 0, 1, 1, 0, 0, 1, 1, 1, 1, 1, 0, 1, 1, 0, ...</td>\n",
       "      <td>[1, 1, 1, 1, 1, 1, 1, 1, 1, 1, 1, 1, 1, 1, 1, ...</td>\n",
       "      <td>[1, 1, 1, 1, 1, 1, 1, 1, 1, 1, 1, 1, 1, 1, 1, ...</td>\n",
       "    </tr>\n",
       "  </tbody>\n",
       "</table>\n",
       "</div>"
      ],
      "text/plain": [
       "                                                  ROC_VOLTAGE  \\\n",
       "TS                                                              \n",
       "2017-12-03  [12.4545002, 0.0, 12.4545002, 12.47226048, 0.0...   \n",
       "2017-12-04  [12.58619976, 0.0, 12.5697403, 0.0, 12.5718002...   \n",
       "2017-12-05  [12.63004017, 12.61270046, 0.0, 0.0, 0.0, 12.6...   \n",
       "2017-12-06  [0.0, 0.0, 12.65235043, 0.0, 0.0, 0.0, 12.6618...   \n",
       "2017-12-07  [0.0, 0.0, 12.64698029, 12.6147604, 0.0, 0.0, ...   \n",
       "\n",
       "                                                         FLOW  \\\n",
       "TS                                                              \n",
       "2017-12-03  [46.82378006, 39.93077087, 35.22726822, 0.0, 3...   \n",
       "2017-12-04  [0.0, 38.76063919, 40.00085831, 40.01855087, 3...   \n",
       "2017-12-05  [34.39490891, 33.86185837, 35.38420105, 36.212...   \n",
       "2017-12-06  [0.0, 0.0, 40.32423019, 0.0, 38.67905045, 39.5...   \n",
       "2017-12-07  [38.38788986, 38.63837814, 41.27537155, 44.890...   \n",
       "\n",
       "                                                  PRESSURE_TH  \\\n",
       "TS                                                              \n",
       "2017-12-03  [1309.1138916, 1307.96533203, 1309.94946289, 1...   \n",
       "2017-12-04  [1354.83935547, 1350.55847168, 1352.85559082, ...   \n",
       "2017-12-05  [1359.22351074, 1359.22351074, 1359.22351074, ...   \n",
       "2017-12-06  [1398.16223145, 1397.11828613, 1396.80493164, ...   \n",
       "2017-12-07  [1459.44299316, 1459.44299316, 1460.06872559, ...   \n",
       "\n",
       "                                             Mask_ROC_VOLTAGE  \\\n",
       "TS                                                              \n",
       "2017-12-03  [1, 0, 1, 1, 0, 1, 0, 0, 1, 0, 0, 1, 0, 0, 1, ...   \n",
       "2017-12-04  [1, 0, 1, 0, 1, 1, 0, 1, 0, 0, 0, 0, 1, 1, 1, ...   \n",
       "2017-12-05  [1, 1, 0, 0, 0, 1, 0, 1, 0, 1, 0, 1, 1, 0, 0, ...   \n",
       "2017-12-06  [0, 0, 1, 0, 0, 0, 1, 0, 0, 1, 0, 1, 1, 1, 1, ...   \n",
       "2017-12-07  [0, 0, 1, 1, 0, 0, 1, 1, 1, 1, 1, 0, 1, 1, 0, ...   \n",
       "\n",
       "                                                    Mask_FLOW  \\\n",
       "TS                                                              \n",
       "2017-12-03  [1, 1, 1, 0, 1, 1, 1, 1, 1, 1, 1, 1, 1, 1, 1, ...   \n",
       "2017-12-04  [0, 1, 1, 1, 1, 1, 1, 1, 0, 1, 1, 1, 1, 1, 1, ...   \n",
       "2017-12-05  [1, 1, 1, 1, 1, 1, 1, 1, 1, 1, 1, 1, 1, 1, 1, ...   \n",
       "2017-12-06  [0, 0, 1, 0, 1, 1, 1, 1, 1, 1, 1, 1, 1, 1, 0, ...   \n",
       "2017-12-07  [1, 1, 1, 1, 1, 1, 1, 1, 1, 1, 1, 1, 1, 1, 1, ...   \n",
       "\n",
       "                                             Mask_PRESSURE_TH  \n",
       "TS                                                             \n",
       "2017-12-03  [1, 1, 1, 1, 1, 1, 1, 1, 1, 1, 1, 1, 1, 1, 1, ...  \n",
       "2017-12-04  [1, 1, 1, 1, 1, 1, 1, 1, 1, 1, 1, 1, 1, 1, 1, ...  \n",
       "2017-12-05  [1, 1, 1, 1, 1, 1, 1, 1, 1, 1, 1, 1, 1, 1, 1, ...  \n",
       "2017-12-06  [1, 1, 1, 1, 1, 1, 1, 1, 1, 1, 1, 1, 1, 1, 1, ...  \n",
       "2017-12-07  [1, 1, 1, 1, 1, 1, 1, 1, 1, 1, 1, 1, 1, 1, 1, ...  "
      ]
     },
     "execution_count": 3,
     "metadata": {},
     "output_type": "execute_result"
    }
   ],
   "source": [
    "agg_df.head()"
   ]
  },
  {
   "cell_type": "code",
   "execution_count": 5,
   "metadata": {},
   "outputs": [
    {
     "data": {
      "text/plain": [
       "{'ACRUS1': {'inference_status': 0,\n",
       "  'body': {'TREND_DATE': '2018-01-01 00:00',\n",
       "   'WELL_STATUS': 'Online',\n",
       "   'FAILURE_CATEGORY': 'Normal',\n",
       "   'FAILURE_DESCRIPTION': '',\n",
       "   'SEVERITY_LEVEL': 3,\n",
       "   'SEVERITY_CATEGORY': 'Medium',\n",
       "   'VOLTAGE_MAX': 12.7585001,\n",
       "   'VOLTAGE_MIN': 11.69077969,\n",
       "   'CHARGE_VOLTS': 1.0677204099999997,\n",
       "   'NO_CHARGE': 'F',\n",
       "   'INSUFFICIENT_CHARGE': 'F',\n",
       "   'HIGH_VOLTAGE': 'F',\n",
       "   'VOLTAGE_CAUSED_OUTAGE': 'F',\n",
       "   'CURENT_OUTAGE': 'F',\n",
       "   'DAYS_TO_LOAD_OFF': 7.0,\n",
       "   'DOWNTIME_PERCENT': '',\n",
       "   'PRODUCTION_LOSS': '',\n",
       "   'NOTIFICATION_FLAG': 'F',\n",
       "   'SENSOR_FAULT': 'F',\n",
       "   'DEAD_CELL': 'F'},\n",
       "  'message': None}}"
      ]
     },
     "execution_count": 5,
     "metadata": {},
     "output_type": "execute_result"
    }
   ],
   "source": [
    "model_manager.run_inference(data)"
   ]
  },
  {
   "cell_type": "code",
   "execution_count": null,
   "metadata": {},
   "outputs": [],
   "source": [
    "data"
   ]
  },
  {
   "cell_type": "code",
   "execution_count": null,
   "metadata": {},
   "outputs": [],
   "source": []
  }
 ],
 "metadata": {
  "kernelspec": {
   "display_name": "venv",
   "language": "python",
   "name": "python3"
  },
  "language_info": {
   "codemirror_mode": {
    "name": "ipython",
    "version": 3
   },
   "file_extension": ".py",
   "mimetype": "text/x-python",
   "name": "python",
   "nbconvert_exporter": "python",
   "pygments_lexer": "ipython3",
   "version": "3.10.8 (tags/v3.10.8:aaaf517, Oct 11 2022, 16:50:30) [MSC v.1933 64 bit (AMD64)]"
  },
  "orig_nbformat": 4,
  "vscode": {
   "interpreter": {
    "hash": "1b8e82fe965d67b4d52727d9e01393d93b5bd7738491028c5420b39b71b9499d"
   }
  }
 },
 "nbformat": 4,
 "nbformat_minor": 2
}
